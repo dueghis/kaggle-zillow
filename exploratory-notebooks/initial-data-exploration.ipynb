{
 "cells": [
  {
   "cell_type": "code",
   "execution_count": 1,
   "metadata": {
    "collapsed": true
   },
   "outputs": [],
   "source": [
    "import pandas as pd"
   ]
  },
  {
   "cell_type": "markdown",
   "metadata": {},
   "source": [
    "Make sure you have some files in your data directory"
   ]
  },
  {
   "cell_type": "code",
   "execution_count": 2,
   "metadata": {
    "collapsed": false
   },
   "outputs": [
    {
     "name": "stdout",
     "output_type": "stream",
     "text": [
      "total 1272088\r\n",
      "-rw-r--r--@ 1 dueghis  staff   619M May 18 17:26 properties_2016.csv\r\n",
      "-rw-r--r--@ 1 dueghis  staff   2.4M May 18 21:57 train_2016.csv\r\n",
      "-rw-r--r--@ 1 dueghis  staff    19K May 10 11:53 zillow_data_dictionary.xlsx\r\n"
     ]
    }
   ],
   "source": [
    "!ls -lh ../data/"
   ]
  },
  {
   "cell_type": "markdown",
   "metadata": {},
   "source": [
    "Now inspect the csv's"
   ]
  },
  {
   "cell_type": "code",
   "execution_count": 3,
   "metadata": {
    "collapsed": false
   },
   "outputs": [
    {
     "name": "stdout",
     "output_type": "stream",
     "text": [
      "parcelid,airconditioningtypeid,architecturalstyletypeid,basementsqft,bathroomcnt,bedroomcnt,buildingclasstypeid,buildingqualitytypeid,calculatedbathnbr,decktypeid,finishedfloor1squarefeet,calculatedfinishedsquarefeet,finishedsquarefeet12,finishedsquarefeet13,finishedsquarefeet15,finishedsquarefeet50,finishedsquarefeet6,fips,fireplacecnt,fullbathcnt,garagecarcnt,garagetotalsqft,hashottuborspa,heatingorsystemtypeid,latitude,longitude,lotsizesquarefeet,poolcnt,poolsizesum,pooltypeid10,pooltypeid2,pooltypeid7,propertycountylandusecode,propertylandusetypeid,propertyzoningdesc,rawcensustractandblock,regionidcity,regionidcounty,regionidneighborhood,regionidzip,roomcnt,storytypeid,threequarterbathnbr,typeconstructiontypeid,unitcnt,yardbuildingsqft17,yardbuildingsqft26,yearbuilt,numberofstories,fireplaceflag,structuretaxvaluedollarcnt,taxvaluedollarcnt,assessmentyear,landtaxvaluedollarcnt,taxamount,taxdelinquencyflag,taxdelinquencyyear,censustractandblock\r\n",
      "10754147,,,,0.0,0.0,,,,,,,,,,,,06037,,,,,,,34144442,-118654084,85768.0,,,,,,010D,269,,060378002.0410,37688,3101,,96337,0.0,,,,,,,,,,,9.0,2015,9.0,,,,\r\n",
      "10759547,,,,0.0,0.0,,,,,,,,,,,,06037,,,,,,,34140430,-118625364,4083.0,,,,,,0109,261,LCA11*,060378001.011002,37688,3101,,96337,0.0,,,,,,,,,,,27516.0,2015,27516.0,,,,\r\n",
      "10843547,,,,0.0,0.0,,,,,,73026.0,,,73026,,,06037,,,,,,,33989359,-118394633,63085.0,,,,,,1200,47,LAC2,060377030.012017,51617,3101,,96095,0.0,,,,2,,,,,,650756.0,1413387.0,2015,762631.0,20800.37,,,\r\n",
      "10859147,,,,0.0,0.0,3,7,,,,5068.0,,,5068,,,06037,,,,,,,34148863,-118437206,7521.0,,,,,,1200,47,LAC2,060371412.023001,12447,3101,27080,96424,0.0,,,,,,,1948.0,1,,571346.0,1156834.0,2015,585488.0,14557.57,,,\r\n",
      "10879947,,,,0.0,0.0,4,,,,,1776.0,,,1776,,,06037,,,,,,,34194168,-118385816,8512.0,,,,,,1210,31,LAM1,060371232.052003,12447,3101,46795,96450,0.0,,,,1,,,1947.0,,,193796.0,433491.0,2015,239695.0,5725.17,,,\r\n",
      "10898347,,,,0.0,0.0,4,7,,,,2400.0,,,2400,,,06037,,,,,,,34171873,-118380906,2500.0,,,,,,1210,31,LAC4,060371252.001000,12447,3101,46795,96446,0.0,,,,,,,1943.0,1,,176383.0,283315.0,2015,106932.0,3661.28,,,\r\n",
      "10933547,,,,0.0,0.0,,,,,,,,,,,,06037,,,,,,,34131929,-118351474,,,,,,,010V,260,LAC2,060371437.00101,12447,3101,274049,96049,0.0,,,,,,,,,,397945.0,554573.0,2015,156628.0,6773.34,,,\r\n",
      "10940747,,,,0.0,0.0,,,,,,3611.0,,,3611,,,06037,,,,,,,34171345,-118314900,5333.0,,,,,,1210,31,BUC4YY,060373108.003004,396054,3101,,96434,0.0,,,,,,,1946.0,1,,101998.0,688486.0,2015,586488.0,7857.84,,,\r\n",
      "10954547,,,,0.0,0.0,,,,,,,,,,,,06037,,,,,,,34218210,-118331311,145865.0,,,,,,010D,269,BUR1*,060373101.003001,396054,3101,,96436,0.0,,,,,,,,,,,9.0,2015,9.0,,,,\r\n"
     ]
    }
   ],
   "source": [
    "!head ../data/properties_2016.csv"
   ]
  },
  {
   "cell_type": "code",
   "execution_count": 4,
   "metadata": {
    "collapsed": false
   },
   "outputs": [
    {
     "name": "stdout",
     "output_type": "stream",
     "text": [
      "parcelid,logerror,transactiondate\r\n",
      "11016594,0.0276,2016-01-01\r\n",
      "14366692,-0.1684,2016-01-01\r\n",
      "12098116,-0.004,2016-01-01\r\n",
      "12643413,0.0218,2016-01-02\r\n",
      "14432541,-0.005,2016-01-02\r\n",
      "11509835,-0.2705,2016-01-02\r\n",
      "12286022,0.044,2016-01-02\r\n",
      "17177301,0.1638,2016-01-02\r\n",
      "14739064,-0.003,2016-01-02\r\n"
     ]
    }
   ],
   "source": [
    "!head ../data/train_2016.csv"
   ]
  },
  {
   "cell_type": "code",
   "execution_count": null,
   "metadata": {
    "collapsed": true
   },
   "outputs": [],
   "source": []
  }
 ],
 "metadata": {
  "kernelspec": {
   "display_name": "Python [conda root]",
   "language": "python",
   "name": "conda-root-py"
  },
  "language_info": {
   "codemirror_mode": {
    "name": "ipython",
    "version": 2
   },
   "file_extension": ".py",
   "mimetype": "text/x-python",
   "name": "python",
   "nbconvert_exporter": "python",
   "pygments_lexer": "ipython2",
   "version": "2.7.13"
  }
 },
 "nbformat": 4,
 "nbformat_minor": 2
}
